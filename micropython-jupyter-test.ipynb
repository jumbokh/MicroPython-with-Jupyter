{
 "cells": [
  {
   "cell_type": "markdown",
   "metadata": {},
   "source": [
    "# MicroPython @Jupyter Notebook\n",
    "\n",
    "### 在Jupyter Notebook中要直接和micropython通訊要使用USB線，也就是serial port才行，因此要另外裝一個「jupyter_micropython_kernel」的jupyter kernel才行  \n",
    "\n",
    "### 過程如下：  \n",
    "- 先來這兒git repo下載：https://github.com/goatchurchprime/jupyter_micropython_kernel\n",
    "- 我是用win10，所以直接下載zip檔，再解壓，解壓後，不用進入repo的目錄，直接下指令：\n",
    "\n",
    "`pip install -e jupyter_micropython_kernel-master`\n",
    "\n",
    "- 安裝訊息如下：\n",
    "\n",
    "`Requirement already satisfied: pyserial>=3.4 in c:\\users\\malo\\anaconda3\\lib\\site-packages (from jupyter-micropython-kernel==0.1.3) (3.4)\n",
    "Collecting websocket-client>=0.44 (from jupyter-micropython-kernel==0.1.3)\n",
    "  Downloading https://files.pythonhosted.org/packages/8a/a1/72ef9aa26cfe1a75cee09fc1957e4723add9de098c15719416a1ee89386b/websocket_client-0.48.0-py2.py3-none-any.whl (198kB)\n",
    "    100% |████████████████████████████████| 204kB 10kB/s\n",
    "Requirement already satisfied: six in c:\\users\\malo\\anaconda3\\lib\\site-packages (from websocket-client>=0.44->jupyter-micropython-kernel==0.1.3) (1.10.0)\n",
    "Installing collected packages: websocket-client, jupyter-micropython-kernel\n",
    "  Running setup.py develop for jupyter-micropython-kernel\n",
    "Successfully installed jupyter-micropython-kernel websocket-client-0.48.0\n",
    "`\n",
    "\n",
    "- 查一下目前有的kernel: \n",
    "\n",
    "`jupyter kernelspec list\n",
    "\n",
    "    Available kernels:\n",
    "      python3    C:\\Users\\Malo\\Anaconda3\\share\\jupyter\\kernels\\python3\n",
    "`\n",
    "\n",
    "- 再下指令： \n",
    "\n",
    "`\n",
    "python -m jupyter_micropython_kernel.install\n",
    "\n",
    "    Installing IPython kernel spec of micropython\n",
    "       into C:\\Users\\Malo\\AppData\\Roaming\\jupyter\\kernels\\micropython\n",
    "`\n",
    "\n",
    "- 這時再查kernel：\n",
    "\n",
    "```\n",
    "jupyter kernelspec list\n",
    "\n",
    "    Available kernels:\n",
    "      micropython    C:\\Users\\Malo\\AppData\\Roaming\\jupyter\\kernels\\micropython\n",
    "      python3        C:\\Users\\Malo\\Anaconda3\\share\\jupyter\\kernels\\python3\n",
    "```\n",
    "\n",
    "- 把jupyternotebook關掉重開就可以看到多了一個MicroPython的選項可以用\n",
    "![MicroPython](image/Snap5.png)\n",
    "\n",
    "- 到這邊就表示可以在Jupyter Notebook上使用Micropython了"
   ]
  },
  {
   "cell_type": "markdown",
   "metadata": {},
   "source": [
    "----\n",
    "## 使用說明\n",
    "\n",
    "- 先新增一個MicroPython的Notebook file\n",
    "- 以下為我的使用過程，你需要依你的com port號碼不同去調整 `--port=comXX`的參數\n",
    "- 如果是使用Linux，應該會是如 `--port=/dev/ttyUSB0` 這樣的參數\n"
   ]
  },
  {
   "cell_type": "code",
   "execution_count": null,
   "metadata": {
    "collapsed": true
   },
   "outputs": [],
   "source": [
    "%serialconnect to --port=com7 --baud=115200"
   ]
  },
  {
   "cell_type": "code",
   "execution_count": null,
   "metadata": {
    "collapsed": true
   },
   "outputs": [],
   "source": [
    "print('hello esp8266')"
   ]
  },
  {
   "cell_type": "code",
   "execution_count": null,
   "metadata": {
    "collapsed": true
   },
   "outputs": [],
   "source": [
    "from machine import Pin, Signal\n",
    "import time\n",
    "\n",
    "p2 = Pin(2, Pin.OUT) #D4\n",
    "p2.value(1)\n",
    "for i in range(6):\n",
    "    p2.value(not p2.value())\n",
    "    time.sleep(1)"
   ]
  },
  {
   "cell_type": "code",
   "execution_count": null,
   "metadata": {
    "collapsed": true
   },
   "outputs": [],
   "source": [
    "# 暖暖，前半部\n",
    "\n",
    "from machine import Pin,PWM\n",
    "import time\n",
    "\n",
    "C4=262\n",
    "CS4=277\n",
    "D4=294\n",
    "DS4=311\n",
    "E4=330\n",
    "F4=349\n",
    "FS4=370\n",
    "G4=392\n",
    "GS4=415\n",
    "A4=440\n",
    "AS4=466\n",
    "B4=494\n",
    "C5=523\n",
    "#CS5=554\n",
    "D5=587\n",
    "#DS5=622\n",
    "E5=659\n",
    "F5=698\n",
    "#FS5=740\n",
    "G5=784\n",
    "#GS5=831\n",
    "A5=880\n",
    "#AS5=932\n",
    "B5=988\n",
    "\n",
    "note=(G4, C5, D5, D5, E5, E5, D5, E5, E5, \n",
    "      D5, E5, G5, E5, C5, C5, G4, A4, E5, D5, C5, D5,\n",
    "      E5, 0 , G4, C5, D5, D5, E5, E5, D5, E5, E5, \n",
    "      D5, E5, G5, E5, C5, C5, B4, A4, E5, D5, C5, D5, \n",
    "      C5,\n",
    "      )\n",
    "duration=(8, 8, 8, 8, 8, 4, 8, 8, 4, \n",
    "          8, 8, 8, 8, 4, 8, 8, 3, 8, 4, 8, 8, \n",
    "          2, 8, 8, 8, 8, 8, 8, 4, 8, 8, 4,\n",
    "          8, 8, 8, 8, 4, 8, 8, 3, 8, 4, 8, 8, \n",
    "          1,\n",
    "          )\n",
    "\n",
    "def tone(pwm,note,duration):\n",
    "    if note>0:\n",
    "        pwm.freq(note)           \n",
    "        pwm.duty(512)\n",
    "    time.sleep_ms(duration)\n",
    "    pwm.deinit()\n",
    "    time.sleep_ms(int(duration/4))\n",
    "\n",
    "def music(pwm):\n",
    "    for i in range(0,len(note)):\n",
    "        d=int(1000/duration[i])\n",
    "        tone(pwm, note[i], d*2)\n",
    "        #p=int(d*1.3)\n",
    "        #time.sleep_ms(p)\n",
    "    time.sleep(1)\n",
    "\n",
    "pwm=PWM(Pin(4)) \n",
    "\n",
    "for i in range(1):\n",
    "    music(pwm)"
   ]
  },
  {
   "cell_type": "markdown",
   "metadata": {},
   "source": [
    "## 使用web socket的方式連線\n"
   ]
  },
  {
   "cell_type": "code",
   "execution_count": null,
   "metadata": {},
   "outputs": [],
   "source": [
    "# %serialconnect to --port=com13 --baud=115200\n",
    "%websocketconnect"
   ]
  },
  {
   "cell_type": "code",
   "execution_count": 5,
   "metadata": {},
   "outputs": [
    {
     "name": "stdout",
     "output_type": "stream",
     "text": [
      "\u001b[34m** WebSocket connected **\n",
      "\u001b[0mPassword: \n",
      "WebREPL connected\n",
      ">>> \u001b[34mReady.\n",
      "\u001b[0m"
     ]
    }
   ],
   "source": [
    "%websocketconnect --password 1234 ws://192.168.43.245:8266"
   ]
  },
  {
   "cell_type": "code",
   "execution_count": 6,
   "metadata": {},
   "outputs": [
    {
     "name": "stdout",
     "output_type": "stream",
     "text": [
      "hello esp8266 from websocket\r\n"
     ]
    }
   ],
   "source": [
    "print('hello esp8266 from websocket')"
   ]
  },
  {
   "cell_type": "code",
   "execution_count": 7,
   "metadata": {},
   "outputs": [
    {
     "name": "stdout",
     "output_type": "stream",
     "text": [
      "."
     ]
    }
   ],
   "source": [
    "from machine import Pin\n",
    "import time\n",
    "\n",
    "p2 = Pin(2, Pin.OUT) #D4\n",
    "p2.value(1)\n",
    "for i in range(6):\n",
    "    p2.value(not p2.value())\n",
    "    time.sleep(1)"
   ]
  },
  {
   "cell_type": "code",
   "execution_count": 8,
   "metadata": {},
   "outputs": [
    {
     "name": "stdout",
     "output_type": "stream",
     "text": [
      "...."
     ]
    }
   ],
   "source": [
    "# 暖暖，前半部\n",
    "\n",
    "from machine import Pin,PWM\n",
    "import time\n",
    "\n",
    "C4=262\n",
    "CS4=277\n",
    "D4=294\n",
    "DS4=311\n",
    "E4=330\n",
    "F4=349\n",
    "FS4=370\n",
    "G4=392\n",
    "GS4=415\n",
    "A4=440\n",
    "AS4=466\n",
    "B4=494\n",
    "C5=523\n",
    "#CS5=554\n",
    "D5=587\n",
    "#DS5=622\n",
    "E5=659\n",
    "F5=698\n",
    "#FS5=740\n",
    "G5=784\n",
    "#GS5=831\n",
    "A5=880\n",
    "#AS5=932\n",
    "B5=988\n",
    "\n",
    "note=(G4, C5, D5, D5, E5, E5, D5, E5, E5, \n",
    "      D5, E5, G5, E5, C5, C5, G4, A4, E5, D5, C5, D5,\n",
    "      E5, 0 , G4, C5, D5, D5, E5, E5, D5, E5, E5, \n",
    "      D5, E5, G5, E5, C5, C5, B4, A4, E5, D5, C5, D5, \n",
    "      C5,\n",
    "      )\n",
    "duration=(8, 8, 8, 8, 8, 4, 8, 8, 4, \n",
    "          8, 8, 8, 8, 4, 8, 8, 3, 8, 4, 8, 8, \n",
    "          2, 8, 8, 8, 8, 8, 8, 4, 8, 8, 4,\n",
    "          8, 8, 8, 8, 4, 8, 8, 3, 8, 4, 8, 8, \n",
    "          1,\n",
    "          )\n",
    "\n",
    "def tone(pwm,note,duration):\n",
    "    if note>0:\n",
    "        pwm.freq(note)           \n",
    "        pwm.duty(512)\n",
    "    time.sleep_ms(duration)\n",
    "    pwm.deinit()\n",
    "    time.sleep_ms(int(duration/4))\n",
    "\n",
    "def music(pwm):\n",
    "    for i in range(0,len(note)):\n",
    "        d=int(1000/duration[i])\n",
    "        tone(pwm, note[i], d*2)\n",
    "        #p=int(d*1.3)\n",
    "        #time.sleep_ms(p)\n",
    "    time.sleep(1)\n",
    "\n",
    "pwm=PWM(Pin(4)) \n",
    "\n",
    "for i in range(1):\n",
    "    music(pwm)"
   ]
  },
  {
   "cell_type": "markdown",
   "metadata": {},
   "source": [
    "### push data to ThingSpeak"
   ]
  },
  {
   "cell_type": "code",
   "execution_count": null,
   "metadata": {
    "collapsed": true
   },
   "outputs": [],
   "source": [
    "# 示範解題\n",
    "import urequests\n",
    "import dht\n",
    "from machine import Pin\n",
    "\n",
    "url = \"http://api.thingspeak.com/update?api_key=TWB7BD496GOYPGM1&field1=25&field2=65\"\n",
    "api_key = 'TWB7BD496GOYPGM1'\n",
    "field1 = 20 #T\n",
    "field2 = 60 #H\n",
    "\n",
    "d = dht.DHT11(Pin(5)) #D1\n",
    "\n",
    "d.measure()\n",
    "T = d.temperature() # eg. 23 (℃)\n",
    "H = d.humidity()    # eg. 41 (% RH)\n",
    "print(\"T=%s, H=%s\" %(T, H))\n",
    "\n",
    "url_update = 'http://api.thingspeak.com/update?api_key='+api_key+'&field1='+str(T)+'&field2='+str(H)\n",
    "r = urequests.post(url_update)\n",
    "print('result: ', r.content)\n",
    "r.close()\n"
   ]
  }
 ],
 "metadata": {
  "kernelspec": {
   "display_name": "MicroPython - USB",
   "language": "micropython",
   "name": "micropython"
  },
  "language_info": {
   "codemirror_mode": "python",
   "file_extension": ".py",
   "mimetype": "text/python",
   "name": "micropython"
  }
 },
 "nbformat": 4,
 "nbformat_minor": 2
}
